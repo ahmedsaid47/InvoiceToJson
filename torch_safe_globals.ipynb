{
 "cells": [
  {
   "cell_type": "code",
   "execution_count": null,
   "id": "initial_id",
   "metadata": {
    "collapsed": true
   },
   "outputs": [],
   "source": [
    "\"\"\"\n",
    "Pytorch safe globals için merkezi sağlayıcı modül.\n",
    "Bu dosya tüm projenin tek bir yerden safe globals kaydı yapmasını sağlar.\n",
    "\"\"\"\n",
    "import torch.serialization\n",
    "from ultralytics.nn.tasks import DetectionModel\n",
    "from typing import Dict, Set, Optional\n",
    "\n",
    "# Kayıt edilmiş global'leri takip eder\n",
    "_REGISTERED_GLOBALS: Set[str] = set()\n",
    "\n",
    "# Kaydedilecek tüm sınıflar burada tanımlanır\n",
    "SAFE_GLOBALS: Dict[str, object] = {\n",
    "    \"ultralytics.nn.tasks.DetectionModel\": DetectionModel\n",
    "}\n",
    "\n",
    "def register_torch_safe_globals() -> bool:\n",
    "    \"\"\"\n",
    "    Tüm proje için tek bir yerden PyTorch güvenli globals kaydı yapar.\n",
    "    Her çağrıda yalnızca bir kez kaydeder.\n",
    "\n",
    "    Returns:\n",
    "        bool: Kayıt yapıldıysa True, zaten yapılmışsa False\n",
    "    \"\"\"\n",
    "    global _REGISTERED_GLOBALS\n",
    "\n",
    "    # add_safe_globals fonksiyonunu kontrol et\n",
    "    add_safe_fn = getattr(torch.serialization, \"add_safe_globals\", None)\n",
    "    if not callable(add_safe_fn):\n",
    "        print(\"[WARNING] torch.serialization.add_safe_globals not found; \"\n",
    "              \"could not add safe globals.\")\n",
    "        return False\n",
    "\n",
    "    # Her bir global için tek tek kayıt yapalım\n",
    "    registered = False\n",
    "    for class_path, class_obj in SAFE_GLOBALS.items():\n",
    "        if class_path not in _REGISTERED_GLOBALS:\n",
    "            # İlgili sınıfı güvenli global olarak ekle\n",
    "            single_class_dict = {class_path: class_obj}\n",
    "            try:\n",
    "                add_safe_fn(single_class_dict)\n",
    "                _REGISTERED_GLOBALS.add(class_path)\n",
    "                registered = True\n",
    "                print(f\"[INFO] Registered safe global: {class_path}\")\n",
    "            except Exception as e:\n",
    "                print(f\"[ERROR] Failed to register {class_path}: {str(e)}\")\n",
    "\n",
    "    return registered"
   ]
  }
 ],
 "metadata": {
  "kernelspec": {
   "display_name": "Python 3",
   "language": "python",
   "name": "python3"
  },
  "language_info": {
   "codemirror_mode": {
    "name": "ipython",
    "version": 2
   },
   "file_extension": ".py",
   "mimetype": "text/x-python",
   "name": "python",
   "nbconvert_exporter": "python",
   "pygments_lexer": "ipython2",
   "version": "2.7.6"
  }
 },
 "nbformat": 4,
 "nbformat_minor": 5
}
